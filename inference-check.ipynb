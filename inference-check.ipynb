{
 "cells": [
  {
   "cell_type": "code",
   "execution_count": 1,
   "metadata": {},
   "outputs": [],
   "source": [
    "import torch\n",
    "from vision_transformer import ViT, ViTConfig"
   ]
  },
  {
   "cell_type": "code",
   "execution_count": 2,
   "metadata": {},
   "outputs": [
    {
     "name": "stdout",
     "output_type": "stream",
     "text": [
      "ViTConfig(dim=768, embedder_config=PatchEmbedderConfig(patch_size=(16, 16), dropout=0.0), transformer_config=TransformerEncoderConfig(depth=12, attention_config=MultiHeadAttentionConfig(n_heads=12, dropout=0.0), mlp_config=MLPConfig(hidden_dim=3072, dropout=0.0)), pool_type=<ViTPoolType.cls_token: 1>)\n"
     ]
    }
   ],
   "source": [
    "config = ViTConfig()\n",
    "model = ViT(image_size=(224, 224), num_channels=3, num_classes=10, config=config)\n",
    "print(config)"
   ]
  },
  {
   "cell_type": "code",
   "execution_count": 3,
   "metadata": {},
   "outputs": [
    {
     "name": "stdout",
     "output_type": "stream",
     "text": [
      "tensor([[ 0.2035,  0.3032,  0.5701, -1.0089, -0.4292,  1.1983,  0.1009,  0.3215,\n",
      "          0.1211, -0.0485]])\n"
     ]
    }
   ],
   "source": [
    "x = torch.randn(1, 3, 224, 224)\n",
    "with torch.inference_mode():\n",
    "    out = model(x)\n",
    "print(out)"
   ]
  },
  {
   "cell_type": "code",
   "execution_count": 4,
   "metadata": {},
   "outputs": [
    {
     "name": "stdout",
     "output_type": "stream",
     "text": [
      "[input]:\ttorch.Size([1, 3, 224, 224])\n",
      "[embedding]:\ttorch.Size([1, 197, 768])\n",
      "[transformer]:\ttorch.Size([1, 197, 768])\n",
      "[pool]:\ttorch.Size([1, 768])\n",
      "[latent]:\ttorch.Size([1, 768])\n",
      "[out]:\ttorch.Size([1, 10])\n"
     ]
    }
   ],
   "source": [
    "x = torch.randn(1, 3, 224, 224)\n",
    "print('[input]:', x.shape, sep='\\t')\n",
    "with torch.inference_mode():\n",
    "    x = model.embedder(x)\n",
    "    print('[embedding]:', x.shape, sep='\\t')\n",
    "    x = model.transformer(x)\n",
    "    print('[transformer]:', x.shape, sep='\\t')\n",
    "\n",
    "    x = x[:, 0]\n",
    "    print('[pool]:', x.shape, sep='\\t')\n",
    "\n",
    "    x = model.to_latent(x)\n",
    "    print('[latent]:', x.shape, sep='\\t')\n",
    "    x = model.mlp_head(x)\n",
    "    print('[out]:', x.shape, sep='\\t')"
   ]
  }
 ],
 "metadata": {
  "kernelspec": {
   "display_name": "Python 3",
   "language": "python",
   "name": "python3"
  },
  "language_info": {
   "codemirror_mode": {
    "name": "ipython",
    "version": 3
   },
   "file_extension": ".py",
   "mimetype": "text/x-python",
   "name": "python",
   "nbconvert_exporter": "python",
   "pygments_lexer": "ipython3",
   "version": "3.10.3"
  },
  "orig_nbformat": 4,
  "vscode": {
   "interpreter": {
    "hash": "ab1947e609ba88ab7cfbdd2efcabe5ffc0fca27634f057e1a6cbabd4abdaadee"
   }
  }
 },
 "nbformat": 4,
 "nbformat_minor": 2
}
